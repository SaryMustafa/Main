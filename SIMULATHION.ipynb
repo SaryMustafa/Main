{
 "cells": [
  {
   "cell_type": "code",
   "execution_count": 27,
   "id": "77884f8c-941f-4081-889d-e5045164da11",
   "metadata": {},
   "outputs": [],
   "source": [
    "import pandas as pd\n",
    "import numpy as np\n",
    "import seaborn as sns\n",
    "%matplotlib inline\n",
    "import matplotlib.pyplot as plt\n",
    "import plotly.express as px"
   ]
  },
  {
   "cell_type": "code",
   "execution_count": 2,
   "id": "752217dc-0423-42f0-af58-1a4b581bce64",
   "metadata": {},
   "outputs": [],
   "source": [
    "mu = 100\n",
    "sigma = 10"
   ]
  },
  {
   "cell_type": "code",
   "execution_count": 3,
   "id": "50b369fb-647c-4fc9-b339-7ef406df5728",
   "metadata": {},
   "outputs": [],
   "source": [
    "population = np.random.normal(mu, sigma, 10000)"
   ]
  },
  {
   "cell_type": "code",
   "execution_count": 14,
   "id": "624ef9a1-790e-4ab1-833d-a6288c1f3c65",
   "metadata": {},
   "outputs": [
    {
     "data": {
      "text/plain": [
       "99.98166730648902"
      ]
     },
     "execution_count": 14,
     "metadata": {},
     "output_type": "execute_result"
    }
   ],
   "source": [
    "population.mean()"
   ]
  },
  {
   "cell_type": "code",
   "execution_count": 15,
   "id": "3a61bf33-1681-4a36-9882-5eea92f34b64",
   "metadata": {},
   "outputs": [
    {
     "data": {
      "text/plain": [
       "10.036965539620342"
      ]
     },
     "execution_count": 15,
     "metadata": {},
     "output_type": "execute_result"
    }
   ],
   "source": [
    "population.std()"
   ]
  },
  {
   "cell_type": "code",
   "execution_count": 5,
   "id": "132d34a0-90fa-4e50-8a78-1fefc8e10d74",
   "metadata": {},
   "outputs": [],
   "source": [
    "sample_size = 30\n"
   ]
  },
  {
   "cell_type": "code",
   "execution_count": null,
   "id": "85eeac3f-35e8-440e-a468-1f6be770b049",
   "metadata": {},
   "outputs": [],
   "source": []
  },
  {
   "cell_type": "code",
   "execution_count": 10,
   "id": "34013a3c-fe6d-4af2-a50f-96b77af34d94",
   "metadata": {},
   "outputs": [
    {
     "data": {
      "text/plain": [
       "99.86179511510636"
      ]
     },
     "execution_count": 10,
     "metadata": {},
     "output_type": "execute_result"
    }
   ],
   "source": [
    "sample.mean()"
   ]
  },
  {
   "cell_type": "code",
   "execution_count": 16,
   "id": "fc10b05b-18ab-40c1-91c8-c834f11ba61f",
   "metadata": {},
   "outputs": [],
   "source": [
    "sample = np.random.choice(population, sample_size, False)"
   ]
  },
  {
   "cell_type": "code",
   "execution_count": 17,
   "id": "0aae1b81-4b5a-4d67-99cc-4a09eaa7b705",
   "metadata": {},
   "outputs": [
    {
     "data": {
      "text/plain": [
       "99.11018314588223"
      ]
     },
     "execution_count": 17,
     "metadata": {},
     "output_type": "execute_result"
    }
   ],
   "source": [
    "sample.mean()"
   ]
  },
  {
   "cell_type": "code",
   "execution_count": 21,
   "id": "fe2b380a-8945-4f17-9a72-d8d3518beb2e",
   "metadata": {},
   "outputs": [],
   "source": [
    "sample_means = []"
   ]
  },
  {
   "cell_type": "code",
   "execution_count": 22,
   "id": "446c6690-b894-4bac-86ca-adbc84edc208",
   "metadata": {},
   "outputs": [],
   "source": [
    "n = 1000"
   ]
  },
  {
   "cell_type": "code",
   "execution_count": 23,
   "id": "adae5a1f-b4c3-4aca-9c72-a27d880fb008",
   "metadata": {},
   "outputs": [],
   "source": [
    "for i in range(n):\n",
    "    sample = np.random.choice(population, sample_size, False)\n",
    "    sample_means.append(sample.mean()) \n"
   ]
  },
  {
   "cell_type": "code",
   "execution_count": 28,
   "id": "42e99f75-1a8a-47e5-868a-9170ff0f090d",
   "metadata": {},
   "outputs": [
    {
     "name": "stderr",
     "output_type": "stream",
     "text": [
      "/opt/anaconda3/lib/python3.11/site-packages/seaborn/_oldcore.py:1119: FutureWarning: use_inf_as_na option is deprecated and will be removed in a future version. Convert inf values to NaN before operating instead.\n",
      "  with pd.option_context('mode.use_inf_as_na', True):\n"
     ]
    },
    {
     "data": {
      "text/plain": [
       "<seaborn.axisgrid.FacetGrid at 0x175386510>"
      ]
     },
     "execution_count": 28,
     "metadata": {},
     "output_type": "execute_result"
    },
    {
     "data": {
      "image/png": "[encoded data removed]",
      "text/plain": [
       "<Figure size 500x500 with 1 Axes>"
      ]
     },
     "metadata": {},
     "output_type": "display_data"
    }
   ],
   "source": [
    "sns.displot(sample_means , kde = False)"
   ]
  },
  {
   "cell_type": "code",
   "execution_count": 29,
   "id": "e4158ada-913f-46de-acd2-0e72b4952a5e",
   "metadata": {},
   "outputs": [
    {
     "data": {
      "text/plain": [
       "99.96577040264178"
      ]
     },
     "execution_count": 29,
     "metadata": {},
     "output_type": "execute_result"
    }
   ],
   "source": [
    "np.mean(sample_means)"
   ]
  },
  {
   "cell_type": "code",
   "execution_count": 30,
   "id": "0929bead-758e-491f-87b9-0e9432a7d4b1",
   "metadata": {},
   "outputs": [],
   "source": [
    "# правило 3 сигм ->почти 100 процентов\n",
    "# правило 1,96 сигма  95 процентов"
   ]
  },
  {
   "cell_type": "code",
   "execution_count": 47,
   "id": "8cc23bb9-2f73-41aa-b788-0de62e5cf7e1",
   "metadata": {},
   "outputs": [],
   "source": [
    "# SE = sigma/ koren (n)"
   ]
  },
  {
   "cell_type": "code",
   "execution_count": 48,
   "id": "e1c45a6c-8ed2-4cda-b1d2-3a3aff76b743",
   "metadata": {},
   "outputs": [],
   "source": [
    "se = population.std()/sample_size**0.5"
   ]
  },
  {
   "cell_type": "code",
   "execution_count": 49,
   "id": "bbdbfbc3-9ac6-4b0a-b039-bd8b30fa16d0",
   "metadata": {},
   "outputs": [
    {
     "data": {
      "text/plain": [
       "1.832490811650691"
      ]
     },
     "execution_count": 49,
     "metadata": {},
     "output_type": "execute_result"
    }
   ],
   "source": [
    "se # доказали ЦПД"
   ]
  },
  {
   "cell_type": "code",
   "execution_count": 34,
   "id": "e6c43c86-ac8a-4af6-a336-14e69c0d4ca0",
   "metadata": {},
   "outputs": [
    {
     "data": {
      "text/plain": [
       "1.8706790954423957"
      ]
     },
     "execution_count": 34,
     "metadata": {},
     "output_type": "execute_result"
    }
   ],
   "source": [
    "np.std(sample_means)"
   ]
  },
  {
   "cell_type": "code",
   "execution_count": 36,
   "id": "b3cf29ac-a2c4-44db-9c06-5f3939c23a8c",
   "metadata": {},
   "outputs": [
    {
     "data": {
      "text/plain": [
       "103.57334929732437"
      ]
     },
     "execution_count": 36,
     "metadata": {},
     "output_type": "execute_result"
    }
   ],
   "source": [
    "population.mean() + 1.96 * se\n",
    "# верхний интервал"
   ]
  },
  {
   "cell_type": "code",
   "execution_count": 37,
   "id": "f5151466-225e-41a5-b5ed-185e6f0162ea",
   "metadata": {},
   "outputs": [
    {
     "data": {
      "text/plain": [
       "96.38998531565366"
      ]
     },
     "execution_count": 37,
     "metadata": {},
     "output_type": "execute_result"
    }
   ],
   "source": [
    "population.mean() - 1.96 * se\n",
    "# нижний интервал"
   ]
  },
  {
   "cell_type": "code",
   "execution_count": 38,
   "id": "c306eaba-0d0b-4451-8c29-374a5c87491f",
   "metadata": {},
   "outputs": [],
   "source": [
    "# [96.3, 103.5] границы доверительного интервала"
   ]
  },
  {
   "cell_type": "code",
   "execution_count": 39,
   "id": "bf25ea8e-8b59-4382-af9c-d711b1f1683e",
   "metadata": {},
   "outputs": [],
   "source": [
    "#-------------------------------------------------"
   ]
  },
  {
   "cell_type": "code",
   "execution_count": 40,
   "id": "db39547b-bba5-45ac-aff4-06a77a1a686d",
   "metadata": {},
   "outputs": [],
   "source": [
    "sample_real = np.random.choice(population, sample_size, False)"
   ]
  },
  {
   "cell_type": "code",
   "execution_count": 43,
   "id": "26f5a582-20d6-4f9b-a28e-ba40692a63d2",
   "metadata": {},
   "outputs": [
    {
     "data": {
      "text/plain": [
       "array([ 96.56721164, 109.93746797, 110.3852138 ,  79.9178683 ,\n",
       "        87.66145565,  77.02091112,  95.87027781, 104.66042774,\n",
       "        97.26130702,  96.55415758, 101.7026051 , 115.39945551,\n",
       "        97.24772284,  84.74626811, 112.10803043, 105.90654187,\n",
       "       104.04197368, 113.16000561, 103.73694565,  79.85235945,\n",
       "        92.44278737, 104.50431612, 105.05033773, 108.27381491,\n",
       "       101.44057551, 109.83448383, 120.79115098, 100.50740413,\n",
       "       101.61217319,  91.93477559])"
      ]
     },
     "execution_count": 43,
     "metadata": {},
     "output_type": "execute_result"
    }
   ],
   "source": [
    "sample_real"
   ]
  },
  {
   "cell_type": "code",
   "execution_count": 44,
   "id": "db9933ea-6832-415b-8aa4-8d943217bfce",
   "metadata": {},
   "outputs": [],
   "source": [
    "# se = sigma / n ** 0.5\n",
    "# se = sd /n **0.5  МЕНЯЕМ СИГМУ НА СТАНДАРТНОЕ ОТКЛОНЕНИЕ ВЫБОРКИ, ОНА СЧИТАЕТСЯ ПРИ ПОМОЩИ ФУНКЦИИ std()"
   ]
  },
  {
   "cell_type": "code",
   "execution_count": 50,
   "id": "a88485d2-f935-4f5f-8180-dea341327841",
   "metadata": {},
   "outputs": [],
   "source": [
    "es = sample_real.std()/sample_size ** 0.5"
   ]
  },
  {
   "cell_type": "code",
   "execution_count": 52,
   "id": "f9256bdc-31c5-4b87-815f-bf80cd83ae58",
   "metadata": {},
   "outputs": [
    {
     "data": {
      "text/plain": [
       "1.9431416694600205"
      ]
     },
     "execution_count": 52,
     "metadata": {},
     "output_type": "execute_result"
    }
   ],
   "source": [
    "es\n"
   ]
  },
  {
   "cell_type": "code",
   "execution_count": 53,
   "id": "e132e7f2-f866-4264-8c48-18a3496eb74e",
   "metadata": {},
   "outputs": [
    {
     "data": {
      "text/plain": [
       "103.92934953253135"
      ]
     },
     "execution_count": 53,
     "metadata": {},
     "output_type": "execute_result"
    }
   ],
   "source": [
    "sample_real.mean()+1.96 * se "
   ]
  },
  {
   "cell_type": "code",
   "execution_count": 54,
   "id": "ff2b4bd6-e109-4eee-b676-d67d067d2f7c",
   "metadata": {},
   "outputs": [
    {
     "data": {
      "text/plain": [
       "96.74598555086064"
      ]
     },
     "execution_count": 54,
     "metadata": {},
     "output_type": "execute_result"
    }
   ],
   "source": [
    "sample_real.mean()-1.96 * se "
   ]
  },
  {
   "cell_type": "code",
   "execution_count": null,
   "id": "d149d15b-a49a-473a-b865-1cfb3bad74ff",
   "metadata": {},
   "outputs": [],
   "source": []
  }
 ],
 "metadata": {
  "kernelspec": {
   "display_name": "Python 3 (ipykernel)",
   "language": "python",
   "name": "python3"
  },
  "language_info": {
   "codemirror_mode": {
    "name": "ipython",
    "version": 3
   },
   "file_extension": ".py",
   "mimetype": "text/x-python",
   "name": "python",
   "nbconvert_exporter": "python",
   "pygments_lexer": "ipython3",
   "version": "3.11.7"
  }
 },
 "nbformat": 4,
 "nbformat_minor": 5
}
