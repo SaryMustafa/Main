{
 "cells": [
  {
   "cell_type": "code",
   "execution_count": 6,
   "id": "ecbe9bdb-1084-47d7-8dd6-0de41c634828",
   "metadata": {},
   "outputs": [],
   "source": [
    "import numpy as np\n",
    "import pandas as pd\n",
    "import seaborn as sns\n",
    "import matplotlib.pyplot as plt\n",
    "import scipy.stats as stats\n",
    "import statsmodels.formula.api as smf\n",
    "from statsmodels.stats.anova import anova_lm\n",
    "from statsmodels.stats.multicomp import pairwise_tukeyhsd"
   ]
  },
  {
   "cell_type": "code",
   "execution_count": 13,
   "id": "c473df0c-9de3-4ce1-b47e-f62a801ca5ba",
   "metadata": {},
   "outputs": [],
   "source": [
    "exp_1 = pd.read_csv('5_task_1.csv',delimiter = ',')"
   ]
  },
  {
   "cell_type": "code",
   "execution_count": 14,
   "id": "fb7f3129-8e24-4471-8a67-6a541c51a7d2",
   "metadata": {},
   "outputs": [
    {
     "data": {
      "text/html": [
       "<div>\n",
       "<style scoped>\n",
       "    .dataframe tbody tr th:only-of-type {\n",
       "        vertical-align: middle;\n",
       "    }\n",
       "\n",
       "    .dataframe tbody tr th {\n",
       "        vertical-align: top;\n",
       "    }\n",
       "\n",
       "    .dataframe thead th {\n",
       "        text-align: right;\n",
       "    }\n",
       "</style>\n",
       "<table border=\"1\" class=\"dataframe\">\n",
       "  <thead>\n",
       "    <tr style=\"text-align: right;\">\n",
       "      <th></th>\n",
       "      <th>id</th>\n",
       "      <th>group</th>\n",
       "      <th>events</th>\n",
       "    </tr>\n",
       "  </thead>\n",
       "  <tbody>\n",
       "    <tr>\n",
       "      <th>0</th>\n",
       "      <td>16046</td>\n",
       "      <td>A</td>\n",
       "      <td>14</td>\n",
       "    </tr>\n",
       "    <tr>\n",
       "      <th>1</th>\n",
       "      <td>18712</td>\n",
       "      <td>A</td>\n",
       "      <td>41</td>\n",
       "    </tr>\n",
       "    <tr>\n",
       "      <th>2</th>\n",
       "      <td>3268</td>\n",
       "      <td>A</td>\n",
       "      <td>30</td>\n",
       "    </tr>\n",
       "    <tr>\n",
       "      <th>3</th>\n",
       "      <td>22633</td>\n",
       "      <td>A</td>\n",
       "      <td>37</td>\n",
       "    </tr>\n",
       "    <tr>\n",
       "      <th>4</th>\n",
       "      <td>28071</td>\n",
       "      <td>A</td>\n",
       "      <td>38</td>\n",
       "    </tr>\n",
       "    <tr>\n",
       "      <th>...</th>\n",
       "      <td>...</td>\n",
       "      <td>...</td>\n",
       "      <td>...</td>\n",
       "    </tr>\n",
       "    <tr>\n",
       "      <th>29995</th>\n",
       "      <td>22932</td>\n",
       "      <td>C</td>\n",
       "      <td>38</td>\n",
       "    </tr>\n",
       "    <tr>\n",
       "      <th>29996</th>\n",
       "      <td>21787</td>\n",
       "      <td>C</td>\n",
       "      <td>25</td>\n",
       "    </tr>\n",
       "    <tr>\n",
       "      <th>29997</th>\n",
       "      <td>5054</td>\n",
       "      <td>C</td>\n",
       "      <td>34</td>\n",
       "    </tr>\n",
       "    <tr>\n",
       "      <th>29998</th>\n",
       "      <td>10254</td>\n",
       "      <td>C</td>\n",
       "      <td>27</td>\n",
       "    </tr>\n",
       "    <tr>\n",
       "      <th>29999</th>\n",
       "      <td>5692</td>\n",
       "      <td>C</td>\n",
       "      <td>49</td>\n",
       "    </tr>\n",
       "  </tbody>\n",
       "</table>\n",
       "<p>30000 rows × 3 columns</p>\n",
       "</div>"
      ],
      "text/plain": [
       "          id group  events\n",
       "0      16046     A      14\n",
       "1      18712     A      41\n",
       "2       3268     A      30\n",
       "3      22633     A      37\n",
       "4      28071     A      38\n",
       "...      ...   ...     ...\n",
       "29995  22932     C      38\n",
       "29996  21787     C      25\n",
       "29997   5054     C      34\n",
       "29998  10254     C      27\n",
       "29999   5692     C      49\n",
       "\n",
       "[30000 rows x 3 columns]"
      ]
     },
     "execution_count": 14,
     "metadata": {},
     "output_type": "execute_result"
    }
   ],
   "source": [
    "exp_1"
   ]
  },
  {
   "cell_type": "code",
   "execution_count": 26,
   "id": "08b88907-0a2f-4c22-8a83-34c4da5dd30e",
   "metadata": {},
   "outputs": [],
   "source": [
    "a = exp_1.query('group ==\"A\"').events\n",
    "b = exp_1.query('group ==\"B\"').events\n",
    "c = exp_1.query('group ==\"C\"').events"
   ]
  },
  {
   "cell_type": "code",
   "execution_count": 27,
   "id": "289ff8a6-c31e-4823-a8c2-65504d02a738",
   "metadata": {},
   "outputs": [
    {
     "data": {
      "text/plain": [
       "0       14\n",
       "1       41\n",
       "2       30\n",
       "3       37\n",
       "4       38\n",
       "        ..\n",
       "9995    25\n",
       "9996    25\n",
       "9997    30\n",
       "9998    21\n",
       "9999    21\n",
       "Name: events, Length: 10000, dtype: int64"
      ]
     },
     "execution_count": 27,
     "metadata": {},
     "output_type": "execute_result"
    }
   ],
   "source": [
    "a"
   ]
  },
  {
   "cell_type": "code",
   "execution_count": 28,
   "id": "68ca5a2f-77a9-47b7-a280-4914b183038d",
   "metadata": {},
   "outputs": [
    {
     "data": {
      "text/plain": [
       "LeveneResult(statistic=2.2622596339318037, pvalue=0.10413271995240937)"
      ]
     },
     "execution_count": 28,
     "metadata": {},
     "output_type": "execute_result"
    }
   ],
   "source": [
    "stats.levene(a,b,c)"
   ]
  },
  {
   "cell_type": "code",
   "execution_count": 30,
   "id": "ea5021d3-0928-4075-98fb-378d83d307f5",
   "metadata": {},
   "outputs": [
    {
     "data": {
      "text/plain": [
       "ShapiroResult(statistic=0.9973138685756311, pvalue=0.09586645503400866)"
      ]
     },
     "execution_count": 30,
     "metadata": {},
     "output_type": "execute_result"
    }
   ],
   "source": [
    "stats.shapiro(a.sample(1000,random_state = 17))"
   ]
  },
  {
   "cell_type": "code",
   "execution_count": 32,
   "id": "15866ce9-47fe-4bba-a66c-a7c813ee2d4c",
   "metadata": {},
   "outputs": [
    {
     "data": {
      "text/plain": [
       "ShapiroResult(statistic=0.9980819475724109, pvalue=0.3186658905454146)"
      ]
     },
     "execution_count": 32,
     "metadata": {},
     "output_type": "execute_result"
    }
   ],
   "source": [
    "stats.shapiro(b.sample(1000,random_state = 17))"
   ]
  },
  {
   "cell_type": "code",
   "execution_count": 33,
   "id": "c543a0ff-300d-4f24-bac0-db9f3fb0eb3c",
   "metadata": {},
   "outputs": [
    {
     "data": {
      "text/plain": [
       "ShapiroResult(statistic=0.9981201274607922, pvalue=0.3366435414670874)"
      ]
     },
     "execution_count": 33,
     "metadata": {},
     "output_type": "execute_result"
    }
   ],
   "source": [
    "stats.shapiro(c.sample(1000,random_state = 17))"
   ]
  },
  {
   "cell_type": "code",
   "execution_count": 34,
   "id": "1d24a525-2e35-4861-b9de-e000163295b6",
   "metadata": {},
   "outputs": [
    {
     "data": {
      "text/plain": [
       "F_onewayResult(statistic=2886.166657438961, pvalue=0.0)"
      ]
     },
     "execution_count": 34,
     "metadata": {},
     "output_type": "execute_result"
    }
   ],
   "source": [
    "stats.f_oneway(a,b,c)"
   ]
  },
  {
   "cell_type": "code",
   "execution_count": 35,
   "id": "341d4bd7-1aab-483e-aa33-93443008c769",
   "metadata": {},
   "outputs": [
    {
     "data": {
      "text/plain": [
       "2886"
      ]
     },
     "execution_count": 35,
     "metadata": {},
     "output_type": "execute_result"
    }
   ],
   "source": [
    "round(stats.f_oneway(a,b,c)[0])"
   ]
  },
  {
   "cell_type": "code",
   "execution_count": 37,
   "id": "ad2a9268-6493-434a-9472-9d044c862e66",
   "metadata": {},
   "outputs": [
    {
     "name": "stdout",
     "output_type": "stream",
     "text": [
      "Multiple Comparison of Means - Tukey HSD, FWER=0.05 \n",
      "====================================================\n",
      "group1 group2 meandiff p-adj  lower    upper  reject\n",
      "----------------------------------------------------\n",
      "     A      B    8.034   0.0   7.7038  8.3642   True\n",
      "     A      C  -2.1093   0.0  -2.4395 -1.7791   True\n",
      "     B      C -10.1433   0.0 -10.4735 -9.8131   True\n",
      "----------------------------------------------------\n"
     ]
    }
   ],
   "source": [
    "print(pairwise_tukeyhsd(exp_1['events'],groups = exp_1['group']).summary())"
   ]
  },
  {
   "cell_type": "code",
   "execution_count": 38,
   "id": "e35dd023-0b5e-4bef-b5f2-eb8f04c7a96b",
   "metadata": {},
   "outputs": [
    {
     "data": {
      "text/plain": [
       "Text(0, 0.5, 'Число покупок')"
      ]
     },
     "execution_count": 38,
     "metadata": {},
     "output_type": "execute_result"
    },
    {
     "data": {
      "image/png": "[encoded data removed]",
      "text/plain": [
       "<Figure size 640x480 with 1 Axes>"
      ]
     },
     "metadata": {},
     "output_type": "display_data"
    }
   ],
   "source": [
    "sns.pointplot(x = 'group', y = 'events', data =  exp_1, capsize = .1)\n",
    "plt.title('Число покупок и формат еды')\n",
    "plt.xlabel('Формат')\n",
    "plt.ylabel('Число покупок')"
   ]
  },
  {
   "cell_type": "code",
   "execution_count": 39,
   "id": "6896c648-4e52-45a8-b454-e2830b6114f5",
   "metadata": {},
   "outputs": [],
   "source": [
    "exp_2 = pd.read_csv('5_task_2.csv', delimiter = ',')"
   ]
  },
  {
   "cell_type": "code",
   "execution_count": 40,
   "id": "60804bf1-5488-46f3-85e0-520593e4e3a0",
   "metadata": {},
   "outputs": [
    {
     "data": {
      "text/html": [
       "<div>\n",
       "<style scoped>\n",
       "    .dataframe tbody tr th:only-of-type {\n",
       "        vertical-align: middle;\n",
       "    }\n",
       "\n",
       "    .dataframe tbody tr th {\n",
       "        vertical-align: top;\n",
       "    }\n",
       "\n",
       "    .dataframe thead th {\n",
       "        text-align: right;\n",
       "    }\n",
       "</style>\n",
       "<table border=\"1\" class=\"dataframe\">\n",
       "  <thead>\n",
       "    <tr style=\"text-align: right;\">\n",
       "      <th></th>\n",
       "      <th>id</th>\n",
       "      <th>group</th>\n",
       "      <th>segment</th>\n",
       "      <th>events</th>\n",
       "    </tr>\n",
       "  </thead>\n",
       "  <tbody>\n",
       "    <tr>\n",
       "      <th>0</th>\n",
       "      <td>83440</td>\n",
       "      <td>test</td>\n",
       "      <td>high</td>\n",
       "      <td>78.0</td>\n",
       "    </tr>\n",
       "    <tr>\n",
       "      <th>1</th>\n",
       "      <td>96723</td>\n",
       "      <td>test</td>\n",
       "      <td>high</td>\n",
       "      <td>71.0</td>\n",
       "    </tr>\n",
       "    <tr>\n",
       "      <th>2</th>\n",
       "      <td>68719</td>\n",
       "      <td>test</td>\n",
       "      <td>high</td>\n",
       "      <td>80.0</td>\n",
       "    </tr>\n",
       "    <tr>\n",
       "      <th>3</th>\n",
       "      <td>50399</td>\n",
       "      <td>test</td>\n",
       "      <td>high</td>\n",
       "      <td>80.0</td>\n",
       "    </tr>\n",
       "    <tr>\n",
       "      <th>4</th>\n",
       "      <td>95613</td>\n",
       "      <td>test</td>\n",
       "      <td>high</td>\n",
       "      <td>78.0</td>\n",
       "    </tr>\n",
       "    <tr>\n",
       "      <th>...</th>\n",
       "      <td>...</td>\n",
       "      <td>...</td>\n",
       "      <td>...</td>\n",
       "      <td>...</td>\n",
       "    </tr>\n",
       "    <tr>\n",
       "      <th>99995</th>\n",
       "      <td>60695</td>\n",
       "      <td>control</td>\n",
       "      <td>low</td>\n",
       "      <td>15.0</td>\n",
       "    </tr>\n",
       "    <tr>\n",
       "      <th>99996</th>\n",
       "      <td>5934</td>\n",
       "      <td>control</td>\n",
       "      <td>low</td>\n",
       "      <td>16.0</td>\n",
       "    </tr>\n",
       "    <tr>\n",
       "      <th>99997</th>\n",
       "      <td>30046</td>\n",
       "      <td>control</td>\n",
       "      <td>low</td>\n",
       "      <td>22.0</td>\n",
       "    </tr>\n",
       "    <tr>\n",
       "      <th>99998</th>\n",
       "      <td>26474</td>\n",
       "      <td>control</td>\n",
       "      <td>low</td>\n",
       "      <td>21.0</td>\n",
       "    </tr>\n",
       "    <tr>\n",
       "      <th>99999</th>\n",
       "      <td>42649</td>\n",
       "      <td>control</td>\n",
       "      <td>low</td>\n",
       "      <td>23.0</td>\n",
       "    </tr>\n",
       "  </tbody>\n",
       "</table>\n",
       "<p>100000 rows × 4 columns</p>\n",
       "</div>"
      ],
      "text/plain": [
       "          id    group segment  events\n",
       "0      83440     test    high    78.0\n",
       "1      96723     test    high    71.0\n",
       "2      68719     test    high    80.0\n",
       "3      50399     test    high    80.0\n",
       "4      95613     test    high    78.0\n",
       "...      ...      ...     ...     ...\n",
       "99995  60695  control     low    15.0\n",
       "99996   5934  control     low    16.0\n",
       "99997  30046  control     low    22.0\n",
       "99998  26474  control     low    21.0\n",
       "99999  42649  control     low    23.0\n",
       "\n",
       "[100000 rows x 4 columns]"
      ]
     },
     "execution_count": 40,
     "metadata": {},
     "output_type": "execute_result"
    }
   ],
   "source": [
    "exp_2"
   ]
  },
  {
   "cell_type": "code",
   "execution_count": 43,
   "id": "883bd2da-4bd7-4e57-86fa-cf93895fa895",
   "metadata": {},
   "outputs": [
    {
     "name": "stderr",
     "output_type": "stream",
     "text": [
      "/opt/anaconda3/lib/python3.11/site-packages/seaborn/_oldcore.py:1119: FutureWarning: use_inf_as_na option is deprecated and will be removed in a future version. Convert inf values to NaN before operating instead.\n",
      "  with pd.option_context('mode.use_inf_as_na', True):\n"
     ]
    },
    {
     "data": {
      "text/plain": [
       "<seaborn.axisgrid.FacetGrid at 0x169d33110>"
      ]
     },
     "execution_count": 43,
     "metadata": {},
     "output_type": "execute_result"
    },
    {
     "data": {
      "image/png": "[encoded data removed]",
      "text/plain": [
       "<Figure size 500x500 with 1 Axes>"
      ]
     },
     "metadata": {},
     "output_type": "display_data"
    }
   ],
   "source": [
    "sns.displot(exp_2.query('group ==\"control\"').events)"
   ]
  },
  {
   "cell_type": "code",
   "execution_count": 48,
   "id": "a08a55fe-1f76-4690-b822-1675395e989e",
   "metadata": {},
   "outputs": [
    {
     "name": "stderr",
     "output_type": "stream",
     "text": [
      "/opt/anaconda3/lib/python3.11/site-packages/seaborn/_oldcore.py:1119: FutureWarning: use_inf_as_na option is deprecated and will be removed in a future version. Convert inf values to NaN before operating instead.\n",
      "  with pd.option_context('mode.use_inf_as_na', True):\n"
     ]
    },
    {
     "data": {
      "text/plain": [
       "<seaborn.axisgrid.FacetGrid at 0x16a0dbe90>"
      ]
     },
     "execution_count": 48,
     "metadata": {},
     "output_type": "execute_result"
    },
    {
     "data": {
      "image/png": "[encoded data removed]",
      "text/plain": [
       "<Figure size 500x500 with 1 Axes>"
      ]
     },
     "metadata": {},
     "output_type": "display_data"
    }
   ],
   "source": [
    "sns.displot(exp_2.query('group ==\"test\"').events)"
   ]
  },
  {
   "cell_type": "code",
   "execution_count": 54,
   "id": "c02bf229-6aae-44b3-831e-1a2f6644b75e",
   "metadata": {},
   "outputs": [
    {
     "data": {
      "text/html": [
       "<div>\n",
       "<style scoped>\n",
       "    .dataframe tbody tr th:only-of-type {\n",
       "        vertical-align: middle;\n",
       "    }\n",
       "\n",
       "    .dataframe tbody tr th {\n",
       "        vertical-align: top;\n",
       "    }\n",
       "\n",
       "    .dataframe thead tr th {\n",
       "        text-align: left;\n",
       "    }\n",
       "</style>\n",
       "<table border=\"1\" class=\"dataframe\">\n",
       "  <thead>\n",
       "    <tr>\n",
       "      <th>group</th>\n",
       "      <th colspan=\"2\" halign=\"left\">control</th>\n",
       "      <th colspan=\"2\" halign=\"left\">test</th>\n",
       "    </tr>\n",
       "    <tr>\n",
       "      <th>segment</th>\n",
       "      <th>high</th>\n",
       "      <th>low</th>\n",
       "      <th>high</th>\n",
       "      <th>low</th>\n",
       "    </tr>\n",
       "  </thead>\n",
       "  <tbody>\n",
       "    <tr>\n",
       "      <th>count</th>\n",
       "      <td>10000.00</td>\n",
       "      <td>40000.00</td>\n",
       "      <td>10000.00</td>\n",
       "      <td>40000.00</td>\n",
       "    </tr>\n",
       "    <tr>\n",
       "      <th>mean</th>\n",
       "      <td>59.97</td>\n",
       "      <td>20.03</td>\n",
       "      <td>69.94</td>\n",
       "      <td>33.03</td>\n",
       "    </tr>\n",
       "    <tr>\n",
       "      <th>std</th>\n",
       "      <td>7.81</td>\n",
       "      <td>4.47</td>\n",
       "      <td>8.40</td>\n",
       "      <td>5.72</td>\n",
       "    </tr>\n",
       "    <tr>\n",
       "      <th>min</th>\n",
       "      <td>31.00</td>\n",
       "      <td>4.00</td>\n",
       "      <td>40.00</td>\n",
       "      <td>13.00</td>\n",
       "    </tr>\n",
       "    <tr>\n",
       "      <th>25%</th>\n",
       "      <td>55.00</td>\n",
       "      <td>17.00</td>\n",
       "      <td>64.00</td>\n",
       "      <td>29.00</td>\n",
       "    </tr>\n",
       "    <tr>\n",
       "      <th>50%</th>\n",
       "      <td>60.00</td>\n",
       "      <td>20.00</td>\n",
       "      <td>70.00</td>\n",
       "      <td>33.00</td>\n",
       "    </tr>\n",
       "    <tr>\n",
       "      <th>75%</th>\n",
       "      <td>65.00</td>\n",
       "      <td>23.00</td>\n",
       "      <td>76.00</td>\n",
       "      <td>37.00</td>\n",
       "    </tr>\n",
       "    <tr>\n",
       "      <th>max</th>\n",
       "      <td>89.00</td>\n",
       "      <td>41.00</td>\n",
       "      <td>102.00</td>\n",
       "      <td>59.00</td>\n",
       "    </tr>\n",
       "  </tbody>\n",
       "</table>\n",
       "</div>"
      ],
      "text/plain": [
       "group     control                test          \n",
       "segment      high       low      high       low\n",
       "count    10000.00  40000.00  10000.00  40000.00\n",
       "mean        59.97     20.03     69.94     33.03\n",
       "std          7.81      4.47      8.40      5.72\n",
       "min         31.00      4.00     40.00     13.00\n",
       "25%         55.00     17.00     64.00     29.00\n",
       "50%         60.00     20.00     70.00     33.00\n",
       "75%         65.00     23.00     76.00     37.00\n",
       "max         89.00     41.00    102.00     59.00"
      ]
     },
     "execution_count": 54,
     "metadata": {},
     "output_type": "execute_result"
    }
   ],
   "source": [
    "exp_2.groupby(['group','segment']).events.describe().T.round(2)\n"
   ]
  },
  {
   "cell_type": "code",
   "execution_count": 55,
   "id": "d8df2768-4d96-4c4d-b7fd-baab30bbda53",
   "metadata": {},
   "outputs": [],
   "source": [
    "model = smf.ols(formula = 'events ~ segment+group +segment:group', data = exp_2).fit()\n",
    "aov_table = anova_lm(model, typ=2)"
   ]
  },
  {
   "cell_type": "code",
   "execution_count": 56,
   "id": "082ebbce-20ab-4199-b327-b5953e3d72a3",
   "metadata": {},
   "outputs": [
    {
     "name": "stdout",
     "output_type": "stream",
     "text": [
      "                    sum_sq       df          F  PR(>F)\n",
      "segment        23624796.65      1.0  689756.38     0.0\n",
      "group           3837195.41      1.0  112031.86     0.0\n",
      "segment:group     36642.44      1.0    1069.82     0.0\n",
      "Residual        3424955.89  99996.0        NaN     NaN\n"
     ]
    }
   ],
   "source": [
    "print(round(aov_table, 2))"
   ]
  },
  {
   "cell_type": "code",
   "execution_count": 57,
   "id": "bf76e654-0f59-4ed0-b730-8092578df3d0",
   "metadata": {},
   "outputs": [],
   "source": [
    "exp_2['combination'] = exp_2.group + ' \\ '+ exp_2.segment"
   ]
  },
  {
   "cell_type": "code",
   "execution_count": 58,
   "id": "8654ed47-c050-4457-9f72-0b81fc4b9b14",
   "metadata": {},
   "outputs": [
    {
     "data": {
      "text/html": [
       "<div>\n",
       "<style scoped>\n",
       "    .dataframe tbody tr th:only-of-type {\n",
       "        vertical-align: middle;\n",
       "    }\n",
       "\n",
       "    .dataframe tbody tr th {\n",
       "        vertical-align: top;\n",
       "    }\n",
       "\n",
       "    .dataframe thead th {\n",
       "        text-align: right;\n",
       "    }\n",
       "</style>\n",
       "<table border=\"1\" class=\"dataframe\">\n",
       "  <thead>\n",
       "    <tr style=\"text-align: right;\">\n",
       "      <th></th>\n",
       "      <th>id</th>\n",
       "      <th>group</th>\n",
       "      <th>segment</th>\n",
       "      <th>events</th>\n",
       "      <th>combination</th>\n",
       "    </tr>\n",
       "  </thead>\n",
       "  <tbody>\n",
       "    <tr>\n",
       "      <th>0</th>\n",
       "      <td>83440</td>\n",
       "      <td>test</td>\n",
       "      <td>high</td>\n",
       "      <td>78.0</td>\n",
       "      <td>test \\ high</td>\n",
       "    </tr>\n",
       "    <tr>\n",
       "      <th>1</th>\n",
       "      <td>96723</td>\n",
       "      <td>test</td>\n",
       "      <td>high</td>\n",
       "      <td>71.0</td>\n",
       "      <td>test \\ high</td>\n",
       "    </tr>\n",
       "    <tr>\n",
       "      <th>2</th>\n",
       "      <td>68719</td>\n",
       "      <td>test</td>\n",
       "      <td>high</td>\n",
       "      <td>80.0</td>\n",
       "      <td>test \\ high</td>\n",
       "    </tr>\n",
       "    <tr>\n",
       "      <th>3</th>\n",
       "      <td>50399</td>\n",
       "      <td>test</td>\n",
       "      <td>high</td>\n",
       "      <td>80.0</td>\n",
       "      <td>test \\ high</td>\n",
       "    </tr>\n",
       "    <tr>\n",
       "      <th>4</th>\n",
       "      <td>95613</td>\n",
       "      <td>test</td>\n",
       "      <td>high</td>\n",
       "      <td>78.0</td>\n",
       "      <td>test \\ high</td>\n",
       "    </tr>\n",
       "    <tr>\n",
       "      <th>...</th>\n",
       "      <td>...</td>\n",
       "      <td>...</td>\n",
       "      <td>...</td>\n",
       "      <td>...</td>\n",
       "      <td>...</td>\n",
       "    </tr>\n",
       "    <tr>\n",
       "      <th>99995</th>\n",
       "      <td>60695</td>\n",
       "      <td>control</td>\n",
       "      <td>low</td>\n",
       "      <td>15.0</td>\n",
       "      <td>control \\ low</td>\n",
       "    </tr>\n",
       "    <tr>\n",
       "      <th>99996</th>\n",
       "      <td>5934</td>\n",
       "      <td>control</td>\n",
       "      <td>low</td>\n",
       "      <td>16.0</td>\n",
       "      <td>control \\ low</td>\n",
       "    </tr>\n",
       "    <tr>\n",
       "      <th>99997</th>\n",
       "      <td>30046</td>\n",
       "      <td>control</td>\n",
       "      <td>low</td>\n",
       "      <td>22.0</td>\n",
       "      <td>control \\ low</td>\n",
       "    </tr>\n",
       "    <tr>\n",
       "      <th>99998</th>\n",
       "      <td>26474</td>\n",
       "      <td>control</td>\n",
       "      <td>low</td>\n",
       "      <td>21.0</td>\n",
       "      <td>control \\ low</td>\n",
       "    </tr>\n",
       "    <tr>\n",
       "      <th>99999</th>\n",
       "      <td>42649</td>\n",
       "      <td>control</td>\n",
       "      <td>low</td>\n",
       "      <td>23.0</td>\n",
       "      <td>control \\ low</td>\n",
       "    </tr>\n",
       "  </tbody>\n",
       "</table>\n",
       "<p>100000 rows × 5 columns</p>\n",
       "</div>"
      ],
      "text/plain": [
       "          id    group segment  events    combination\n",
       "0      83440     test    high    78.0    test \\ high\n",
       "1      96723     test    high    71.0    test \\ high\n",
       "2      68719     test    high    80.0    test \\ high\n",
       "3      50399     test    high    80.0    test \\ high\n",
       "4      95613     test    high    78.0    test \\ high\n",
       "...      ...      ...     ...     ...            ...\n",
       "99995  60695  control     low    15.0  control \\ low\n",
       "99996   5934  control     low    16.0  control \\ low\n",
       "99997  30046  control     low    22.0  control \\ low\n",
       "99998  26474  control     low    21.0  control \\ low\n",
       "99999  42649  control     low    23.0  control \\ low\n",
       "\n",
       "[100000 rows x 5 columns]"
      ]
     },
     "execution_count": 58,
     "metadata": {},
     "output_type": "execute_result"
    }
   ],
   "source": [
    "exp_2"
   ]
  },
  {
   "cell_type": "code",
   "execution_count": 63,
   "id": "9aa696cc-915e-4b9b-8a55-a8b04dd2ef36",
   "metadata": {},
   "outputs": [
    {
     "name": "stdout",
     "output_type": "stream",
     "text": [
      "        Multiple Comparison of Means - Tukey HSD, FWER=0.05         \n",
      "====================================================================\n",
      "    group1         group2    meandiff p-adj  lower    upper   reject\n",
      "--------------------------------------------------------------------\n",
      "control \\ high control \\ low -39.9392   0.0 -40.1073 -39.7711   True\n",
      "control \\ high   test \\ high   9.9677   0.0   9.7551  10.1803   True\n",
      "control \\ high    test \\ low -26.9449   0.0  -27.113 -26.7768   True\n",
      " control \\ low   test \\ high  49.9069   0.0  49.7388   50.075   True\n",
      " control \\ low    test \\ low  12.9944   0.0   12.888  13.1007   True\n",
      "   test \\ high    test \\ low -36.9126   0.0 -37.0807 -36.7445   True\n",
      "--------------------------------------------------------------------\n"
     ]
    }
   ],
   "source": [
    "print(pairwise_tukeyhsd(exp_2['events'],groups = exp_2['combination']).summary())"
   ]
  },
  {
   "cell_type": "code",
   "execution_count": 66,
   "id": "f892e5ae-eaf7-432f-8957-7609c3863296",
   "metadata": {},
   "outputs": [
    {
     "data": {
      "text/plain": [
       "Text(0, 0.5, 'Число покупок')"
      ]
     },
     "execution_count": 66,
     "metadata": {},
     "output_type": "execute_result"
    },
    {
     "data": {
      "image/png": "[encoded data removed]",
      "text/plain": [
       "<Figure size 640x480 with 1 Axes>"
      ]
     },
     "metadata": {},
     "output_type": "display_data"
    }
   ],
   "source": [
    "sns.pointplot(x = 'group', y = 'events', hue = 'segment', data =  exp_2, capsize = .1)\n",
    "plt.title('Число покупок и формат еды')\n",
    "plt.xlabel('группа')\n",
    "plt.ylabel('Число покупок')"
   ]
  },
  {
   "cell_type": "code",
   "execution_count": 68,
   "id": "3c770ca4-9f1f-4b97-a6c0-b6956c31d385",
   "metadata": {},
   "outputs": [
    {
     "data": {
      "text/plain": [
       "Text(0, 0.5, 'Число покупок')"
      ]
     },
     "execution_count": 68,
     "metadata": {},
     "output_type": "execute_result"
    },
    {
     "data": {
      "image/png": "[encoded data removed]",
      "text/plain": [
       "<Figure size 640x480 with 1 Axes>"
      ]
     },
     "metadata": {},
     "output_type": "display_data"
    }
   ],
   "source": [
    "sns.boxplot(x = 'group', y = 'events', hue = 'segment', data =  exp_2)\n",
    "plt.title('Число покупок и формат еды')\n",
    "plt.xlabel('группа')\n",
    "plt.ylabel('Число покупок')"
   ]
  },
  {
   "cell_type": "code",
   "execution_count": 64,
   "id": "03a6468a-3bfd-40f0-9daf-4550f542bc1d",
   "metadata": {},
   "outputs": [
    {
     "data": {
      "text/plain": [
       "Text(0, 0.5, 'Число покупок')"
      ]
     },
     "execution_count": 64,
     "metadata": {},
     "output_type": "execute_result"
    },
    {
     "data": {
      "image/png": "[encoded data removed]",
      "text/plain": [
       "<Figure size 640x480 with 1 Axes>"
      ]
     },
     "metadata": {},
     "output_type": "display_data"
    }
   ],
   "source": [
    "sns.pointplot(x = 'combination', y = 'events', data =  exp_2, capsize = .1)\n",
    "plt.title('Число покупок и формат еды')\n",
    "plt.xlabel('Формат')\n",
    "plt.ylabel('Число покупок')"
   ]
  }
 ],
 "metadata": {
  "kernelspec": {
   "display_name": "Python 3 (ipykernel)",
   "language": "python",
   "name": "python3"
  },
  "language_info": {
   "codemirror_mode": {
    "name": "ipython",
    "version": 3
   },
   "file_extension": ".py",
   "mimetype": "text/x-python",
   "name": "python",
   "nbconvert_exporter": "python",
   "pygments_lexer": "ipython3",
   "version": "3.11.7"
  }
 },
 "nbformat": 4,
 "nbformat_minor": 5
}
